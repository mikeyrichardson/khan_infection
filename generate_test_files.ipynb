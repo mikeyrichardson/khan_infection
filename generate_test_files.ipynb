{
 "cells": [
  {
   "cell_type": "code",
   "execution_count": null,
   "metadata": {
    "collapsed": true
   },
   "outputs": [],
   "source": [
    "from __future__ import division\n",
    "import infection as inf\n",
    "import random\n",
    "import os"
   ]
  },
  {
   "cell_type": "code",
   "execution_count": null,
   "metadata": {
    "collapsed": false
   },
   "outputs": [],
   "source": [
    "out_files = []\n",
    "num_vertices = 10000000\n",
    "tmp_path = 'tmp'\n",
    "if not os.path.isdir(tmp_path):\n",
    "    os.mkdir(tmp_path)"
   ]
  },
  {
   "cell_type": "code",
   "execution_count": null,
   "metadata": {
    "collapsed": false
   },
   "outputs": [],
   "source": [
    "out_file_name = os.path.join(tmp_path, 'test_input_01.txt')\n",
    "out_file = open(out_file_name, 'w')\n",
    "ids = ['id{:013d}'.format(i) for i in xrange(num_vertices)]\n",
    "for i, id in enumerate(ids):\n",
    "    if i % 100 == 99:\n",
    "        adj_list = random.sample(ids[(i // 100) * 100: (i // 100 + 1) * 100], 30)\n",
    "    else:\n",
    "        adj_list = []\n",
    "    out_file.write(id + '\\t' + ','.join(adj_list) + '\\n')\n",
    "out_file.close()\n",
    "out_files.append(out_file_name)"
   ]
  },
  {
   "cell_type": "code",
   "execution_count": null,
   "metadata": {
    "collapsed": true
   },
   "outputs": [],
   "source": [
    "out_file_name = os.path.join(tmp_path, 'test_input_02.txt')\n",
    "out_file = open(out_file_name, 'w')\n",
    "ids = ['id{:013d}'.format(i) for i in xrange(num_vertices)]\n",
    "for id in ids:\n",
    "    adj_list = []\n",
    "    out_file.write(id + '\\t' + ','.join(adj_list) + '\\n')\n",
    "out_file.close()\n",
    "out_files.append(out_file_name)"
   ]
  },
  {
   "cell_type": "code",
   "execution_count": null,
   "metadata": {
    "collapsed": true
   },
   "outputs": [],
   "source": [
    "out_file_name = os.path.join(tmp_path, 'test_input_03.txt')\n",
    "out_file = open(out_file_name, 'w')\n",
    "ids = ['id{:013d}'.format(i) for i in xrange(num_vertices)]\n",
    "for i, id in enumerate(ids):\n",
    "    if i % 100 == 0:\n",
    "        adj_list = ids[(i // 100) * 100 + 1: (i // 100 + 1) * 100 + 1]\n",
    "    else:\n",
    "        adj_list = []\n",
    "    out_file.write(id + '\\t' + ','.join(adj_list) + '\\n')\n",
    "out_file.close()\n",
    "out_files.append(out_file_name)"
   ]
  },
  {
   "cell_type": "code",
   "execution_count": null,
   "metadata": {
    "collapsed": true
   },
   "outputs": [],
   "source": [
    "out_file_name = os.path.join(tmp_path, 'test_input_04.txt')\n",
    "out_file = open(out_file_name, 'w')\n",
    "ids = ['id{:013d}'.format(i) for i in xrange(num_vertices)]\n",
    "for id in ids:\n",
    "    if random.random() < 0.01:\n",
    "        adj_list = random.sample(ids,100)\n",
    "    else:\n",
    "        adj_list = []\n",
    "    out_file.write(id + '\\t' + ','.join(adj_list) + '\\n')\n",
    "out_file.close()\n",
    "out_files.append(out_file_name)"
   ]
  },
  {
   "cell_type": "code",
   "execution_count": null,
   "metadata": {
    "collapsed": false
   },
   "outputs": [],
   "source": []
  },
  {
   "cell_type": "code",
   "execution_count": null,
   "metadata": {
    "collapsed": true
   },
   "outputs": [],
   "source": []
  }
 ],
 "metadata": {
  "kernelspec": {
   "display_name": "Python 2",
   "language": "python",
   "name": "python2"
  },
  "language_info": {
   "codemirror_mode": {
    "name": "ipython",
    "version": 2
   },
   "file_extension": ".py",
   "mimetype": "text/x-python",
   "name": "python",
   "nbconvert_exporter": "python",
   "pygments_lexer": "ipython2",
   "version": "2.7.10"
  }
 },
 "nbformat": 4,
 "nbformat_minor": 0
}
